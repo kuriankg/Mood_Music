{
 "cells": [
  {
   "cell_type": "code",
   "execution_count": 1,
   "id": "513ecbad-f10d-44a3-8a60-81b3636ced5e",
   "metadata": {},
   "outputs": [
    {
     "name": "stderr",
     "output_type": "stream",
     "text": [
      "2024-10-23 12:34:50.378116: I tensorflow/core/platform/cpu_feature_guard.cc:210] This TensorFlow binary is optimized to use available CPU instructions in performance-critical operations.\n",
      "To enable the following instructions: AVX2 FMA, in other operations, rebuild TensorFlow with the appropriate compiler flags.\n"
     ]
    }
   ],
   "source": [
    "import os\n",
    "import numpy as np\n",
    "import tensorflow as tf\n",
    "from tensorflow.keras.preprocessing.image import ImageDataGenerator\n",
    "from tensorflow.keras.applications import MobileNetV2\n",
    "from tensorflow.keras.layers import Dense, Flatten, Dropout, GlobalAveragePooling2D\n",
    "from tensorflow.keras.models import Model\n",
    "from tensorflow.keras.callbacks import EarlyStopping"
   ]
  },
  {
   "cell_type": "markdown",
   "id": "222234ef-f8be-4e1a-a111-f39346f6e785",
   "metadata": {},
   "source": [
    "Path"
   ]
  },
  {
   "cell_type": "code",
   "execution_count": 2,
   "id": "0f2d49fd-55c9-44f8-8b26-345849372c68",
   "metadata": {},
   "outputs": [],
   "source": [
    "train_dir = '/Users/kuriankgeorge/Desktop/aws/Capstone/05_Mood_Music/data/MoodforMusic/train'\n",
    "test_dir = '/Users/kuriankgeorge/Desktop/aws/Capstone/05_Mood_Music/data/MoodforMusic/test'"
   ]
  },
  {
   "cell_type": "markdown",
   "id": "c6fe3990-3712-4865-b985-a40b8cfb3855",
   "metadata": {},
   "source": [
    "Image generator"
   ]
  },
  {
   "cell_type": "code",
   "execution_count": 3,
   "id": "32ce6894-9b57-4603-9ca3-791cfd4e62cc",
   "metadata": {},
   "outputs": [],
   "source": [
    "train_datagen = ImageDataGenerator(\n",
    "    rescale=1./255,\n",
    "    validation_split=0.2, \n",
    "    horizontal_flip=True,  \n",
    ")"
   ]
  },
  {
   "cell_type": "code",
   "execution_count": 4,
   "id": "692a07a2-bcd2-4d69-b86b-13f3b7e03a73",
   "metadata": {},
   "outputs": [
    {
     "name": "stdout",
     "output_type": "stream",
     "text": [
      "Found 22968 images belonging to 7 classes.\n"
     ]
    }
   ],
   "source": [
    "train_generator = train_datagen.flow_from_directory(\n",
    "    train_dir,\n",
    "    target_size=(128, 128),  # Use 128x128 for faster training\n",
    "    batch_size=32,  # Slightly larger batch size for efficiency\n",
    "    class_mode='categorical',\n",
    "    subset='training'\n",
    ")"
   ]
  },
  {
   "cell_type": "code",
   "execution_count": 5,
   "id": "cba2962c-2195-452b-9ea6-6198307315c1",
   "metadata": {},
   "outputs": [
    {
     "name": "stdout",
     "output_type": "stream",
     "text": [
      "Found 5741 images belonging to 7 classes.\n"
     ]
    }
   ],
   "source": [
    "validation_generator = train_datagen.flow_from_directory(\n",
    "    train_dir,\n",
    "    target_size=(128, 128),\n",
    "    batch_size=32,\n",
    "    class_mode='categorical',\n",
    "    subset='validation'\n",
    ")"
   ]
  },
  {
   "cell_type": "markdown",
   "id": "7d68d0d3-6303-468f-84ea-d1e50e8121fe",
   "metadata": {},
   "source": [
    "Use mobilenetv2"
   ]
  },
  {
   "cell_type": "code",
   "execution_count": 6,
   "id": "bd61fcc4-f0b3-4132-b4a5-1abf5bbe814f",
   "metadata": {},
   "outputs": [],
   "source": [
    "base_model = MobileNetV2(weights='imagenet', include_top=False, input_shape=(128, 128, 3))"
   ]
  },
  {
   "cell_type": "code",
   "execution_count": 7,
   "id": "64c391be-9e89-4dc7-b85c-1033219fb93a",
   "metadata": {},
   "outputs": [],
   "source": [
    "for layer in base_model.layers[:-10]:  # Only fine-tune the last 10 layers\n",
    "    layer.trainable = False"
   ]
  },
  {
   "cell_type": "code",
   "execution_count": 8,
   "id": "4918fff3-c1f9-4ed8-a709-84ce418865cb",
   "metadata": {},
   "outputs": [],
   "source": [
    "# Add new layers on top of the base model\n",
    "x = base_model.output\n",
    "x = GlobalAveragePooling2D()(x)  # Use GlobalAveragePooling for fewer parameters\n",
    "x = Dense(256, activation='relu')(x)  \n",
    "x = Dropout(0.5)(x)\n",
    "predictions = Dense(7, activation='softmax')(x)  # 7 classes for mood detection\n",
    "\n",
    "model = Model(inputs=base_model.input, outputs=predictions)"
   ]
  },
  {
   "cell_type": "markdown",
   "id": "b1bbfd2d-fc41-4db3-93e2-adeae265de11",
   "metadata": {},
   "source": [
    "Compile"
   ]
  },
  {
   "cell_type": "code",
   "execution_count": 9,
   "id": "d4d7ded5-b6ea-43d6-bd28-68af7b594f7e",
   "metadata": {},
   "outputs": [],
   "source": [
    "model.compile(optimizer=tf.keras.optimizers.Adam(learning_rate=0.0001),\n",
    "              loss='categorical_crossentropy', metrics=['accuracy'])"
   ]
  },
  {
   "cell_type": "markdown",
   "id": "3cc96a3f-6582-4cfa-b45a-ec2d5e9eeb8b",
   "metadata": {},
   "source": [
    "Early stopping"
   ]
  },
  {
   "cell_type": "code",
   "execution_count": 10,
   "id": "8f2a4aab-b308-4c82-9c84-dfd11c489774",
   "metadata": {},
   "outputs": [],
   "source": [
    "early_stopping = EarlyStopping(monitor='val_loss', patience=3, restore_best_weights=True)"
   ]
  },
  {
   "cell_type": "markdown",
   "id": "c668cd00-27df-4575-a059-01eecd8c104d",
   "metadata": {},
   "source": [
    "Train the model"
   ]
  },
  {
   "cell_type": "code",
   "execution_count": 11,
   "id": "6f14bf60-b22c-4d59-b9ca-bb9619bfab27",
   "metadata": {},
   "outputs": [
    {
     "name": "stdout",
     "output_type": "stream",
     "text": [
      "Epoch 1/10\n"
     ]
    },
    {
     "name": "stderr",
     "output_type": "stream",
     "text": [
      "/opt/anaconda3/lib/python3.11/site-packages/keras/src/trainers/data_adapters/py_dataset_adapter.py:122: UserWarning: Your `PyDataset` class should call `super().__init__(**kwargs)` in its constructor. `**kwargs` can include `workers`, `use_multiprocessing`, `max_queue_size`. Do not pass these arguments to `fit()`, as they will be ignored.\n",
      "  self._warn_if_super_not_called()\n"
     ]
    },
    {
     "name": "stdout",
     "output_type": "stream",
     "text": [
      "\u001b[1m718/718\u001b[0m \u001b[32m━━━━━━━━━━━━━━━━━━━━\u001b[0m\u001b[37m\u001b[0m \u001b[1m400s\u001b[0m 543ms/step - accuracy: 0.3288 - loss: 1.7746 - val_accuracy: 0.3888 - val_loss: 1.6081\n",
      "Epoch 2/10\n",
      "\u001b[1m718/718\u001b[0m \u001b[32m━━━━━━━━━━━━━━━━━━━━\u001b[0m\u001b[37m\u001b[0m \u001b[1m390s\u001b[0m 542ms/step - accuracy: 0.4849 - loss: 1.3595 - val_accuracy: 0.4402 - val_loss: 1.4428\n",
      "Epoch 3/10\n",
      "\u001b[1m718/718\u001b[0m \u001b[32m━━━━━━━━━━━━━━━━━━━━\u001b[0m\u001b[37m\u001b[0m \u001b[1m387s\u001b[0m 539ms/step - accuracy: 0.5347 - loss: 1.2441 - val_accuracy: 0.4778 - val_loss: 1.3534\n",
      "Epoch 4/10\n",
      "\u001b[1m718/718\u001b[0m \u001b[32m━━━━━━━━━━━━━━━━━━━━\u001b[0m\u001b[37m\u001b[0m \u001b[1m389s\u001b[0m 541ms/step - accuracy: 0.5640 - loss: 1.1628 - val_accuracy: 0.5231 - val_loss: 1.2760\n",
      "Epoch 5/10\n",
      "\u001b[1m718/718\u001b[0m \u001b[32m━━━━━━━━━━━━━━━━━━━━\u001b[0m\u001b[37m\u001b[0m \u001b[1m381s\u001b[0m 530ms/step - accuracy: 0.5836 - loss: 1.1121 - val_accuracy: 0.5332 - val_loss: 1.2602\n",
      "Epoch 6/10\n",
      "\u001b[1m718/718\u001b[0m \u001b[32m━━━━━━━━━━━━━━━━━━━━\u001b[0m\u001b[37m\u001b[0m \u001b[1m383s\u001b[0m 531ms/step - accuracy: 0.6055 - loss: 1.0621 - val_accuracy: 0.5384 - val_loss: 1.2523\n",
      "Epoch 7/10\n",
      "\u001b[1m718/718\u001b[0m \u001b[32m━━━━━━━━━━━━━━━━━━━━\u001b[0m\u001b[37m\u001b[0m \u001b[1m441s\u001b[0m 530ms/step - accuracy: 0.6368 - loss: 0.9909 - val_accuracy: 0.5377 - val_loss: 1.2587\n",
      "Epoch 8/10\n",
      "\u001b[1m718/718\u001b[0m \u001b[32m━━━━━━━━━━━━━━━━━━━━\u001b[0m\u001b[37m\u001b[0m \u001b[1m382s\u001b[0m 530ms/step - accuracy: 0.6575 - loss: 0.9365 - val_accuracy: 0.5520 - val_loss: 1.2357\n",
      "Epoch 9/10\n",
      "\u001b[1m718/718\u001b[0m \u001b[32m━━━━━━━━━━━━━━━━━━━━\u001b[0m\u001b[37m\u001b[0m \u001b[1m390s\u001b[0m 542ms/step - accuracy: 0.6802 - loss: 0.8739 - val_accuracy: 0.5536 - val_loss: 1.2379\n",
      "Epoch 10/10\n",
      "\u001b[1m718/718\u001b[0m \u001b[32m━━━━━━━━━━━━━━━━━━━━\u001b[0m\u001b[37m\u001b[0m \u001b[1m390s\u001b[0m 542ms/step - accuracy: 0.7042 - loss: 0.8136 - val_accuracy: 0.5574 - val_loss: 1.3115\n"
     ]
    }
   ],
   "source": [
    "history = model.fit(\n",
    "    train_generator,\n",
    "    epochs=10, \n",
    "    validation_data=validation_generator,\n",
    "    callbacks=[early_stopping]\n",
    ")"
   ]
  },
  {
   "cell_type": "code",
   "execution_count": 12,
   "id": "b406de77-5c2c-4cf4-8bd8-29512f5d644f",
   "metadata": {},
   "outputs": [
    {
     "name": "stderr",
     "output_type": "stream",
     "text": [
      "WARNING:absl:You are saving your model as an HDF5 file via `model.save()` or `keras.saving.save_model(model)`. This file format is considered legacy. We recommend using instead the native Keras format, e.g. `model.save('my_model.keras')` or `keras.saving.save_model(model, 'my_model.keras')`. \n"
     ]
    }
   ],
   "source": [
    "model.save('fast_mood_classifier_model.h5')"
   ]
  },
  {
   "cell_type": "code",
   "execution_count": 23,
   "id": "452c747f-a3a3-478c-9bae-efea57fae479",
   "metadata": {},
   "outputs": [],
   "source": [
    "import matplotlib.pyplot as plt"
   ]
  },
  {
   "cell_type": "code",
   "execution_count": 24,
   "id": "e4f4fbae-5bfa-42ea-a2f8-9359b6eda0c7",
   "metadata": {},
   "outputs": [
    {
     "data": {
      "image/png": "[encoded data removed]",
      "text/plain": [
       "<Figure size 640x480 with 1 Axes>"
      ]
     },
     "metadata": {},
     "output_type": "display_data"
    }
   ],
   "source": [
    "plt.plot(history.history['accuracy'], label='train accuracy')\n",
    "plt.plot(history.history['val_accuracy'], label='validation accuracy')\n",
    "plt.title('Model accuracy')\n",
    "plt.xlabel('Epochs')\n",
    "plt.ylabel('Accuracy')\n",
    "plt.legend()\n",
    "plt.show()"
   ]
  },
  {
   "cell_type": "code",
   "execution_count": 25,
   "id": "4e4ad14f-a430-4af1-bdaf-68d8288b3786",
   "metadata": {},
   "outputs": [
    {
     "data": {
      "image/png": "[encoded data removed]",
      "text/plain": [
       "<Figure size 640x480 with 1 Axes>"
      ]
     },
     "metadata": {},
     "output_type": "display_data"
    }
   ],
   "source": [
    "plt.plot(history.history['loss'], label='train loss')\n",
    "plt.plot(history.history['val_loss'], label='validation loss')\n",
    "plt.title('Model loss')\n",
    "plt.xlabel('Epochs')\n",
    "plt.ylabel('Loss')\n",
    "plt.legend()\n",
    "plt.show()"
   ]
  },
  {
   "cell_type": "code",
   "execution_count": 26,
   "id": "4b619f9a-7abe-40e4-ad85-6a3220d00a9e",
   "metadata": {},
   "outputs": [
    {
     "name": "stderr",
     "output_type": "stream",
     "text": [
      "WARNING:absl:Compiled the loaded model, but the compiled metrics have yet to be built. `model.compile_metrics` will be empty until you train or evaluate the model.\n"
     ]
    },
    {
     "name": "stdout",
     "output_type": "stream",
     "text": [
      "Found 7178 images belonging to 7 classes.\n"
     ]
    },
    {
     "name": "stderr",
     "output_type": "stream",
     "text": [
      "/opt/anaconda3/lib/python3.11/site-packages/keras/src/trainers/data_adapters/py_dataset_adapter.py:122: UserWarning: Your `PyDataset` class should call `super().__init__(**kwargs)` in its constructor. `**kwargs` can include `workers`, `use_multiprocessing`, `max_queue_size`. Do not pass these arguments to `fit()`, as they will be ignored.\n",
      "  self._warn_if_super_not_called()\n"
     ]
    },
    {
     "name": "stdout",
     "output_type": "stream",
     "text": [
      "\u001b[1m225/225\u001b[0m \u001b[32m━━━━━━━━━━━━━━━━━━━━\u001b[0m\u001b[37m\u001b[0m \u001b[1m87s\u001b[0m 375ms/step - accuracy: 0.4948 - loss: 1.3943\n",
      "Test Loss: 1.2112550735473633\n",
      "Test Accuracy: 0.5568403601646423\n",
      "\u001b[1m225/225\u001b[0m \u001b[32m━━━━━━━━━━━━━━━━━━━━\u001b[0m\u001b[37m\u001b[0m \u001b[1m88s\u001b[0m 387ms/step\n",
      "True label: angry, Predicted: sad\n",
      "True label: angry, Predicted: angry\n",
      "True label: angry, Predicted: sad\n",
      "True label: angry, Predicted: sad\n",
      "True label: angry, Predicted: happy\n",
      "True label: angry, Predicted: angry\n",
      "True label: angry, Predicted: neutral\n",
      "True label: angry, Predicted: angry\n",
      "True label: angry, Predicted: happy\n",
      "True label: angry, Predicted: angry\n"
     ]
    }
   ],
   "source": [
    "from tensorflow.keras.models import load_model\n",
    "from tensorflow.keras.preprocessing.image import ImageDataGenerator\n",
    "import numpy as np\n",
    "\n",
    "# Load the saved model\n",
    "model = load_model('fast_mood_classifier_model.h5')\n",
    "\n",
    "# Path to test data directory\n",
    "test_dir = '/Users/kuriankgeorge/Desktop/aws/Capstone/05_Mood_Music/data/MoodforMusic/test'\n",
    "\n",
    "# Create a test data generator with rescaling\n",
    "test_datagen = ImageDataGenerator(rescale=1./255)\n",
    "\n",
    "# Flow test images from directory\n",
    "test_generator = test_datagen.flow_from_directory(\n",
    "    test_dir,\n",
    "    target_size=(128, 128),\n",
    "    batch_size=32,\n",
    "    class_mode='categorical',\n",
    "    shuffle=False\n",
    ")\n",
    "\n",
    "# Evaluate the model on test data\n",
    "test_loss, test_accuracy = model.evaluate(test_generator)\n",
    "\n",
    "print(f\"Test Loss: {test_loss}\")\n",
    "print(f\"Test Accuracy: {test_accuracy}\")\n",
    "\n",
    "# Predict the mood labels for the test images\n",
    "predictions = model.predict(test_generator)\n",
    "predicted_classes = np.argmax(predictions, axis=1)\n",
    "\n",
    "# Get the true class indices from the test generator\n",
    "true_classes = test_generator.classes\n",
    "\n",
    "# Get class labels\n",
    "class_labels = list(test_generator.class_indices.keys())\n",
    "\n",
    "# Print a sample of predicted and true classes\n",
    "for i in range(10):\n",
    "    print(f\"True label: {class_labels[true_classes[i]]}, Predicted: {class_labels[predicted_classes[i]]}\")"
   ]
  },
  {
   "cell_type": "markdown",
   "id": "f3b423d6-35ec-490b-90a2-badcf0fa3cfc",
   "metadata": {},
   "source": [
    "Musis recommendation"
   ]
  },
  {
   "cell_type": "code",
   "execution_count": 13,
   "id": "8c1a5914-c41e-4603-915d-f696b2f422d5",
   "metadata": {},
   "outputs": [],
   "source": [
    "import pandas as pd\n",
    "import random"
   ]
  },
  {
   "cell_type": "code",
   "execution_count": 14,
   "id": "cc0e4c1c-c237-48d1-a1eb-2ad5c22dcb8d",
   "metadata": {},
   "outputs": [],
   "source": [
    "music_data=pd.read_csv(\"/Users/kuriankgeorge/Desktop/aws/Capstone/05_Mood_Music/data/MoodforMusic/data_moods.csv\")"
   ]
  },
  {
   "cell_type": "markdown",
   "id": "c44ebc2a-4395-4eb7-a211-d43a3503ff7a",
   "metadata": {},
   "source": [
    "A function to recommend music based on detected mood"
   ]
  },
  {
   "cell_type": "code",
   "execution_count": 15,
   "id": "9fb8bff1-3ef7-4356-bd59-23d011f0cf23",
   "metadata": {},
   "outputs": [],
   "source": [
    "def recommend_music(mood):\n",
    "    # Filter music based on mood\n",
    "    filtered_data = music_data[music_data['mood'] == mood]\n",
    "    \n",
    "    # Recommend a random song from the filtered data\n",
    "    if not filtered_data.empty:\n",
    "        recommended_song = filtered_data.sample()\n",
    "        return {\n",
    "            'name': recommended_song['name'].values[0],\n",
    "            'artist': recommended_song['artist'].values[0],\n",
    "            'album': recommended_song['album'].values[0]\n",
    "        }\n",
    "    else:\n",
    "        return None"
   ]
  },
  {
   "cell_type": "code",
   "execution_count": 20,
   "id": "22ddcfb3-484e-4029-9877-b3a5c97a0db2",
   "metadata": {},
   "outputs": [
    {
     "name": "stdout",
     "output_type": "stream",
     "text": [
      "Recommended Song: Crazy Horses by The Osmonds from the album Crazy Horses\n"
     ]
    }
   ],
   "source": [
    "detected_mood = 'Happy'  \n",
    "song = recommend_music(detected_mood)\n",
    "if song:\n",
    "    print(f\"Recommended Song: {song['name']} by {song['artist']} from the album {song['album']}\")\n",
    "else:\n",
    "    print(\"No songs found for the given mood.\")"
   ]
  },
  {
   "cell_type": "code",
   "execution_count": null,
   "id": "fd904717-e047-4c29-9246-8739c73ee4f7",
   "metadata": {},
   "outputs": [],
   "source": []
  }
 ],
 "metadata": {
  "kernelspec": {
   "display_name": "Python 3 (ipykernel)",
   "language": "python",
   "name": "python3"
  },
  "language_info": {
   "codemirror_mode": {
    "name": "ipython",
    "version": 3
   },
   "file_extension": ".py",
   "mimetype": "text/x-python",
   "name": "python",
   "nbconvert_exporter": "python",
   "pygments_lexer": "ipython3",
   "version": "3.11.7"
  }
 },
 "nbformat": 4,
 "nbformat_minor": 5
}
